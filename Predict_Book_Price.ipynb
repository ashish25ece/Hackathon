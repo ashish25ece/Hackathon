{
  "nbformat": 4,
  "nbformat_minor": 0,
  "metadata": {
    "colab": {
      "name": "Predict Book Price.ipynb",
      "provenance": [],
      "collapsed_sections": [],
      "include_colab_link": true
    },
    "kernelspec": {
      "name": "python3",
      "display_name": "Python 3"
    }
  },
  "cells": [
    {
      "cell_type": "markdown",
      "metadata": {
        "id": "view-in-github",
        "colab_type": "text"
      },
      "source": [
        "<a href=\"https://colab.research.google.com/github/ashish25ece/Hackathon/blob/master/Predict_Book_Price.ipynb\" target=\"_parent\"><img src=\"https://colab.research.google.com/assets/colab-badge.svg\" alt=\"Open In Colab\"/></a>"
      ]
    },
    {
      "cell_type": "markdown",
      "metadata": {
        "id": "UfIkLQWCnsev",
        "colab_type": "text"
      },
      "source": [
        "# To Predict the Price of the Book"
      ]
    },
    {
      "cell_type": "code",
      "metadata": {
        "id": "yXIF5CZSeVpb",
        "colab_type": "code",
        "colab": {}
      },
      "source": [
        "# Importing Libraries\n",
        "\n",
        "import numpy as np \n",
        "import pandas as pd \n",
        "import matplotlib.pyplot as plt\n",
        "import seaborn as sns\n",
        "%matplotlib inline\n",
        "\n",
        "import warnings\n",
        "warnings.filterwarnings('ignore')\n",
        "\n",
        "pd.set_option('display.max_columns', None)"
      ],
      "execution_count": 0,
      "outputs": []
    },
    {
      "cell_type": "code",
      "metadata": {
        "id": "zspC2g2DekHR",
        "colab_type": "code",
        "outputId": "b72d53d3-905c-4d76-fb50-73a7c775e1f2",
        "colab": {
          "base_uri": "https://localhost:8080/",
          "height": 122
        }
      },
      "source": [
        "# Mounting Google Drive into Colab \n",
        "\n",
        "from google.colab import drive\n",
        "drive.mount('/content/drive')"
      ],
      "execution_count": 0,
      "outputs": [
        {
          "output_type": "stream",
          "text": [
            "Go to this URL in a browser: https://accounts.google.com/o/oauth2/auth?client_id=947318989803-6bn6qk8qdgf4n4g3pfee6491hc0brc4i.apps.googleusercontent.com&redirect_uri=urn%3aietf%3awg%3aoauth%3a2.0%3aoob&response_type=code&scope=email%20https%3a%2f%2fwww.googleapis.com%2fauth%2fdocs.test%20https%3a%2f%2fwww.googleapis.com%2fauth%2fdrive%20https%3a%2f%2fwww.googleapis.com%2fauth%2fdrive.photos.readonly%20https%3a%2f%2fwww.googleapis.com%2fauth%2fpeopleapi.readonly\n",
            "\n",
            "Enter your authorization code:\n",
            "··········\n",
            "Mounted at /content/drive\n"
          ],
          "name": "stdout"
        }
      ]
    },
    {
      "cell_type": "code",
      "metadata": {
        "id": "vXCmz33PfMxE",
        "colab_type": "code",
        "colab": {}
      },
      "source": [
        "# reading excel files from drive into colab\n",
        "\n",
        "train_path = \"/content/drive/My Drive/Book Dataset/Book_Train.xlsx\"\n",
        "test_path = \"/content/drive/My Drive/Book Dataset/Book_Test.xlsx\"\n",
        "df_train = pd.read_excel(train_path)\n",
        "df_test = pd.read_excel(test_path)"
      ],
      "execution_count": 0,
      "outputs": []
    },
    {
      "cell_type": "code",
      "metadata": {
        "id": "AZ1lcV0LWTzO",
        "colab_type": "code",
        "outputId": "123916e3-5bcb-48e8-daac-c37a76191378",
        "colab": {
          "base_uri": "https://localhost:8080/",
          "height": 289
        }
      },
      "source": [
        "df_train.tail()"
      ],
      "execution_count": 0,
      "outputs": [
        {
          "output_type": "execute_result",
          "data": {
            "text/html": [
              "<div>\n",
              "<style scoped>\n",
              "    .dataframe tbody tr th:only-of-type {\n",
              "        vertical-align: middle;\n",
              "    }\n",
              "\n",
              "    .dataframe tbody tr th {\n",
              "        vertical-align: top;\n",
              "    }\n",
              "\n",
              "    .dataframe thead th {\n",
              "        text-align: right;\n",
              "    }\n",
              "</style>\n",
              "<table border=\"1\" class=\"dataframe\">\n",
              "  <thead>\n",
              "    <tr style=\"text-align: right;\">\n",
              "      <th></th>\n",
              "      <th>Title</th>\n",
              "      <th>Author</th>\n",
              "      <th>Edition</th>\n",
              "      <th>Ratings</th>\n",
              "      <th>Reviews</th>\n",
              "      <th>Synopsis</th>\n",
              "      <th>Genre</th>\n",
              "      <th>BookCategory</th>\n",
              "      <th>Price</th>\n",
              "    </tr>\n",
              "  </thead>\n",
              "  <tbody>\n",
              "    <tr>\n",
              "      <th>6232</th>\n",
              "      <td>Humans: A Brief History of How We F*cked It Al...</td>\n",
              "      <td>Tom Phillips</td>\n",
              "      <td>Paperback,– 8 Aug 2018</td>\n",
              "      <td>5.0 out of 5 stars</td>\n",
              "      <td>2 customer reviews</td>\n",
              "      <td>'F*cking brilliant' Sarah Knight\\n'Very funny'...</td>\n",
              "      <td>Anthropology (Books)</td>\n",
              "      <td>Humour</td>\n",
              "      <td>322.0</td>\n",
              "    </tr>\n",
              "    <tr>\n",
              "      <th>6233</th>\n",
              "      <td>The Chemist</td>\n",
              "      <td>Stephenie Meyer</td>\n",
              "      <td>Paperback,– 21 Nov 2016</td>\n",
              "      <td>3.3 out of 5 stars</td>\n",
              "      <td>9 customer reviews</td>\n",
              "      <td>In this gripping page-turner, an ex-agent on t...</td>\n",
              "      <td>Contemporary Fiction (Books)</td>\n",
              "      <td>Crime, Thriller &amp; Mystery</td>\n",
              "      <td>421.0</td>\n",
              "    </tr>\n",
              "    <tr>\n",
              "      <th>6234</th>\n",
              "      <td>The Duke And I: Number 1 in series (Bridgerton...</td>\n",
              "      <td>Julia Quinn</td>\n",
              "      <td>Paperback,– 8 Jun 2006</td>\n",
              "      <td>3.8 out of 5 stars</td>\n",
              "      <td>3 customer reviews</td>\n",
              "      <td>'The most refreshing and radiant love story yo...</td>\n",
              "      <td>Romance (Books)</td>\n",
              "      <td>Romance</td>\n",
              "      <td>399.0</td>\n",
              "    </tr>\n",
              "    <tr>\n",
              "      <th>6235</th>\n",
              "      <td>Frostfire (Kanin Chronicles)</td>\n",
              "      <td>Amanda Hocking</td>\n",
              "      <td>Paperback,– 15 Jan 2015</td>\n",
              "      <td>3.5 out of 5 stars</td>\n",
              "      <td>4 customer reviews</td>\n",
              "      <td>Frostfire by Amanda Hocking is the stunning fi...</td>\n",
              "      <td>Action &amp; Adventure (Books)</td>\n",
              "      <td>Action &amp; Adventure</td>\n",
              "      <td>319.0</td>\n",
              "    </tr>\n",
              "    <tr>\n",
              "      <th>6236</th>\n",
              "      <td>The First Order (Sam Capra)</td>\n",
              "      <td>Jeff Abbott</td>\n",
              "      <td>Paperback,– 21 Dec 2016</td>\n",
              "      <td>3.9 out of 5 stars</td>\n",
              "      <td>2 customer reviews</td>\n",
              "      <td>Six years ago, Sam Capra watched his brother, ...</td>\n",
              "      <td>Action &amp; Adventure (Books)</td>\n",
              "      <td>Action &amp; Adventure</td>\n",
              "      <td>452.0</td>\n",
              "    </tr>\n",
              "  </tbody>\n",
              "</table>\n",
              "</div>"
            ],
            "text/plain": [
              "                                                  Title           Author  \\\n",
              "6232  Humans: A Brief History of How We F*cked It Al...     Tom Phillips   \n",
              "6233                                        The Chemist  Stephenie Meyer   \n",
              "6234  The Duke And I: Number 1 in series (Bridgerton...      Julia Quinn   \n",
              "6235                       Frostfire (Kanin Chronicles)   Amanda Hocking   \n",
              "6236                        The First Order (Sam Capra)      Jeff Abbott   \n",
              "\n",
              "                      Edition             Ratings             Reviews  \\\n",
              "6232   Paperback,– 8 Aug 2018  5.0 out of 5 stars  2 customer reviews   \n",
              "6233  Paperback,– 21 Nov 2016  3.3 out of 5 stars  9 customer reviews   \n",
              "6234   Paperback,– 8 Jun 2006  3.8 out of 5 stars  3 customer reviews   \n",
              "6235  Paperback,– 15 Jan 2015  3.5 out of 5 stars  4 customer reviews   \n",
              "6236  Paperback,– 21 Dec 2016  3.9 out of 5 stars  2 customer reviews   \n",
              "\n",
              "                                               Synopsis  \\\n",
              "6232  'F*cking brilliant' Sarah Knight\\n'Very funny'...   \n",
              "6233  In this gripping page-turner, an ex-agent on t...   \n",
              "6234  'The most refreshing and radiant love story yo...   \n",
              "6235  Frostfire by Amanda Hocking is the stunning fi...   \n",
              "6236  Six years ago, Sam Capra watched his brother, ...   \n",
              "\n",
              "                             Genre               BookCategory  Price  \n",
              "6232          Anthropology (Books)                     Humour  322.0  \n",
              "6233  Contemporary Fiction (Books)  Crime, Thriller & Mystery  421.0  \n",
              "6234               Romance (Books)                    Romance  399.0  \n",
              "6235    Action & Adventure (Books)         Action & Adventure  319.0  \n",
              "6236    Action & Adventure (Books)         Action & Adventure  452.0  "
            ]
          },
          "metadata": {
            "tags": []
          },
          "execution_count": 35
        }
      ]
    },
    {
      "cell_type": "code",
      "metadata": {
        "id": "Km0noP9GhUB8",
        "colab_type": "code",
        "outputId": "8e1569f5-b0c3-4c95-a6a6-04172af1b070",
        "colab": {
          "base_uri": "https://localhost:8080/",
          "height": 51
        }
      },
      "source": [
        "print ('The shape of the train dataset (%d,%d)' %(df_train.shape))\n",
        "print ('The shape of the test dataset (%d,%d)' %(df_test.shape))"
      ],
      "execution_count": 0,
      "outputs": [
        {
          "output_type": "stream",
          "text": [
            "The shape of the train dataset (6237,9)\n",
            "The shape of the test dataset (1560,8)\n"
          ],
          "name": "stdout"
        }
      ]
    },
    {
      "cell_type": "code",
      "metadata": {
        "id": "IAzqkcEYrZrC",
        "colab_type": "code",
        "colab": {}
      },
      "source": [
        "# appending both the train and test data set\n",
        "\n",
        "df= df_train.append(df_test)"
      ],
      "execution_count": 0,
      "outputs": []
    },
    {
      "cell_type": "code",
      "metadata": {
        "id": "rgLlPOPDnlX4",
        "colab_type": "code",
        "outputId": "b2ce5857-5dce-43ee-8b9a-5b1c7b9f3412",
        "colab": {
          "base_uri": "https://localhost:8080/",
          "height": 289
        }
      },
      "source": [
        "# Printing the head of the dataset\n",
        "\n",
        "df.head()"
      ],
      "execution_count": 0,
      "outputs": [
        {
          "output_type": "execute_result",
          "data": {
            "text/html": [
              "<div>\n",
              "<style scoped>\n",
              "    .dataframe tbody tr th:only-of-type {\n",
              "        vertical-align: middle;\n",
              "    }\n",
              "\n",
              "    .dataframe tbody tr th {\n",
              "        vertical-align: top;\n",
              "    }\n",
              "\n",
              "    .dataframe thead th {\n",
              "        text-align: right;\n",
              "    }\n",
              "</style>\n",
              "<table border=\"1\" class=\"dataframe\">\n",
              "  <thead>\n",
              "    <tr style=\"text-align: right;\">\n",
              "      <th></th>\n",
              "      <th>Author</th>\n",
              "      <th>BookCategory</th>\n",
              "      <th>Edition</th>\n",
              "      <th>Genre</th>\n",
              "      <th>Price</th>\n",
              "      <th>Ratings</th>\n",
              "      <th>Reviews</th>\n",
              "      <th>Synopsis</th>\n",
              "      <th>Title</th>\n",
              "    </tr>\n",
              "  </thead>\n",
              "  <tbody>\n",
              "    <tr>\n",
              "      <th>0</th>\n",
              "      <td>Chris Kuzneski</td>\n",
              "      <td>Action &amp; Adventure</td>\n",
              "      <td>Paperback,– 10 Mar 2016</td>\n",
              "      <td>Action &amp; Adventure (Books)</td>\n",
              "      <td>220.00</td>\n",
              "      <td>4.0 out of 5 stars</td>\n",
              "      <td>8 customer reviews</td>\n",
              "      <td>THE HUNTERS return in their third brilliant no...</td>\n",
              "      <td>The Prisoner's Gold (The Hunters 3)</td>\n",
              "    </tr>\n",
              "    <tr>\n",
              "      <th>1</th>\n",
              "      <td>Arun Khopkar</td>\n",
              "      <td>Biographies, Diaries &amp; True Accounts</td>\n",
              "      <td>Paperback,– 7 Nov 2012</td>\n",
              "      <td>Cinema &amp; Broadcast (Books)</td>\n",
              "      <td>202.93</td>\n",
              "      <td>3.9 out of 5 stars</td>\n",
              "      <td>14 customer reviews</td>\n",
              "      <td>A layered portrait of a troubled genius for wh...</td>\n",
              "      <td>Guru Dutt: A Tragedy in Three Acts</td>\n",
              "    </tr>\n",
              "    <tr>\n",
              "      <th>2</th>\n",
              "      <td>Thomas Hobbes</td>\n",
              "      <td>Humour</td>\n",
              "      <td>Paperback,– 25 Feb 1982</td>\n",
              "      <td>International Relations</td>\n",
              "      <td>299.00</td>\n",
              "      <td>4.8 out of 5 stars</td>\n",
              "      <td>6 customer reviews</td>\n",
              "      <td>\"During the time men live without a common Pow...</td>\n",
              "      <td>Leviathan (Penguin Classics)</td>\n",
              "    </tr>\n",
              "    <tr>\n",
              "      <th>3</th>\n",
              "      <td>Agatha Christie</td>\n",
              "      <td>Crime, Thriller &amp; Mystery</td>\n",
              "      <td>Paperback,– 5 Oct 2017</td>\n",
              "      <td>Contemporary Fiction (Books)</td>\n",
              "      <td>180.00</td>\n",
              "      <td>4.1 out of 5 stars</td>\n",
              "      <td>13 customer reviews</td>\n",
              "      <td>A handful of grain is found in the pocket of a...</td>\n",
              "      <td>A Pocket Full of Rye (Miss Marple)</td>\n",
              "    </tr>\n",
              "    <tr>\n",
              "      <th>4</th>\n",
              "      <td>Editors of Life</td>\n",
              "      <td>Arts, Film &amp; Photography</td>\n",
              "      <td>Hardcover,– 10 Oct 2006</td>\n",
              "      <td>Photography Textbooks</td>\n",
              "      <td>965.62</td>\n",
              "      <td>5.0 out of 5 stars</td>\n",
              "      <td>1 customer review</td>\n",
              "      <td>For seven decades, \"Life\" has been thrilling t...</td>\n",
              "      <td>LIFE 70 Years of Extraordinary Photography</td>\n",
              "    </tr>\n",
              "  </tbody>\n",
              "</table>\n",
              "</div>"
            ],
            "text/plain": [
              "            Author                          BookCategory  \\\n",
              "0   Chris Kuzneski                    Action & Adventure   \n",
              "1     Arun Khopkar  Biographies, Diaries & True Accounts   \n",
              "2    Thomas Hobbes                                Humour   \n",
              "3  Agatha Christie             Crime, Thriller & Mystery   \n",
              "4  Editors of Life              Arts, Film & Photography   \n",
              "\n",
              "                   Edition                         Genre   Price  \\\n",
              "0  Paperback,– 10 Mar 2016    Action & Adventure (Books)  220.00   \n",
              "1   Paperback,– 7 Nov 2012    Cinema & Broadcast (Books)  202.93   \n",
              "2  Paperback,– 25 Feb 1982       International Relations  299.00   \n",
              "3   Paperback,– 5 Oct 2017  Contemporary Fiction (Books)  180.00   \n",
              "4  Hardcover,– 10 Oct 2006         Photography Textbooks  965.62   \n",
              "\n",
              "              Ratings              Reviews  \\\n",
              "0  4.0 out of 5 stars   8 customer reviews   \n",
              "1  3.9 out of 5 stars  14 customer reviews   \n",
              "2  4.8 out of 5 stars   6 customer reviews   \n",
              "3  4.1 out of 5 stars  13 customer reviews   \n",
              "4  5.0 out of 5 stars    1 customer review   \n",
              "\n",
              "                                            Synopsis  \\\n",
              "0  THE HUNTERS return in their third brilliant no...   \n",
              "1  A layered portrait of a troubled genius for wh...   \n",
              "2  \"During the time men live without a common Pow...   \n",
              "3  A handful of grain is found in the pocket of a...   \n",
              "4  For seven decades, \"Life\" has been thrilling t...   \n",
              "\n",
              "                                        Title  \n",
              "0         The Prisoner's Gold (The Hunters 3)  \n",
              "1          Guru Dutt: A Tragedy in Three Acts  \n",
              "2                Leviathan (Penguin Classics)  \n",
              "3          A Pocket Full of Rye (Miss Marple)  \n",
              "4  LIFE 70 Years of Extraordinary Photography  "
            ]
          },
          "metadata": {
            "tags": []
          },
          "execution_count": 39
        }
      ]
    },
    {
      "cell_type": "code",
      "metadata": {
        "id": "zhZizwJonosH",
        "colab_type": "code",
        "outputId": "9807a07d-fa1f-4b78-add0-c82fd6bef037",
        "colab": {
          "base_uri": "https://localhost:8080/",
          "height": 255
        }
      },
      "source": [
        "#check the info of the data dataset\n",
        "\n",
        "df.info()"
      ],
      "execution_count": 0,
      "outputs": [
        {
          "output_type": "stream",
          "text": [
            "<class 'pandas.core.frame.DataFrame'>\n",
            "Int64Index: 7797 entries, 0 to 1559\n",
            "Data columns (total 9 columns):\n",
            "Author          7797 non-null object\n",
            "BookCategory    7797 non-null object\n",
            "Edition         7797 non-null object\n",
            "Genre           7797 non-null object\n",
            "Price           6237 non-null float64\n",
            "Ratings         7797 non-null object\n",
            "Reviews         7797 non-null object\n",
            "Synopsis        7797 non-null object\n",
            "Title           7797 non-null object\n",
            "dtypes: float64(1), object(8)\n",
            "memory usage: 609.1+ KB\n"
          ],
          "name": "stdout"
        }
      ]
    },
    {
      "cell_type": "code",
      "metadata": {
        "id": "-y3oK-Thrshq",
        "colab_type": "code",
        "outputId": "c35f23f7-5e6f-445a-cf2a-ea3471f90a4f",
        "colab": {
          "base_uri": "https://localhost:8080/",
          "height": 187
        }
      },
      "source": [
        "# checking the null values\n",
        "\n",
        "df.isnull().sum()"
      ],
      "execution_count": 0,
      "outputs": [
        {
          "output_type": "execute_result",
          "data": {
            "text/plain": [
              "Author             0\n",
              "BookCategory       0\n",
              "Edition            0\n",
              "Genre              0\n",
              "Price           1560\n",
              "Ratings            0\n",
              "Reviews            0\n",
              "Synopsis           0\n",
              "Title              0\n",
              "dtype: int64"
            ]
          },
          "metadata": {
            "tags": []
          },
          "execution_count": 41
        }
      ]
    },
    {
      "cell_type": "markdown",
      "metadata": {
        "id": "OthHnkMLrzy8",
        "colab_type": "text"
      },
      "source": [
        "*As we can see, there are no missing values in the dataset except in the target variable which is the part of the test data set and not the train data set so no treatment is needed.* "
      ]
    },
    {
      "cell_type": "markdown",
      "metadata": {
        "id": "TxDQ3MsItQMu",
        "colab_type": "text"
      },
      "source": [
        "# **Feature Preprocessing and Feature Engineering**"
      ]
    },
    {
      "cell_type": "code",
      "metadata": {
        "id": "k830IsvcnvNR",
        "colab_type": "code",
        "colab": {}
      },
      "source": [
        "# Splitting the numerical value from the Review feature\n",
        "\n",
        "df['Reviews']=df['Reviews'].str.split().str[0]\n",
        "df['Reviews']=df['Reviews'].replace(',','',regex=True)\n",
        "df['Reviews']=df['Reviews'].astype(int)"
      ],
      "execution_count": 0,
      "outputs": []
    },
    {
      "cell_type": "code",
      "metadata": {
        "id": "0bf5D6q-t80n",
        "colab_type": "code",
        "colab": {}
      },
      "source": [
        "# Splitting the numerical value from the Ratings feature\n",
        "\n",
        "df['Ratings']=df['Ratings'].str.split().str[0].astype(float)"
      ],
      "execution_count": 0,
      "outputs": []
    },
    {
      "cell_type": "code",
      "metadata": {
        "id": "T235oqFTGeWd",
        "colab_type": "code",
        "colab": {}
      },
      "source": [
        "# Splitting the values of Genre feature into new features\n",
        "\n",
        "a=df['Genre'].str.split('(')\n",
        "b=a.str[0].str.split('&')\n",
        "c=b.str[0].str.split(',')\n",
        "\n",
        "df['Genre_1']=c.str[0]\n",
        "df['Genre_2']=c.str[1]\n",
        "df['Genre_3']=b.str[1]\n",
        "\n",
        "df['Genre_1'].fillna(\"unknown\",inplace = True)\n",
        "df['Genre_2'].fillna(\"unknown\",inplace = True)\n",
        "df['Genre_3'].fillna(\"unknown\",inplace = True)"
      ],
      "execution_count": 0,
      "outputs": []
    },
    {
      "cell_type": "code",
      "metadata": {
        "id": "QC5yP0stNA-i",
        "colab_type": "code",
        "colab": {}
      },
      "source": [
        "# Splitting the values of Edition feature into Printed and Publishing date features\n",
        "\n",
        "a=df['Edition'].str.split(\",–\")\n",
        "df['Printed']=a.str[0]"
      ],
      "execution_count": 0,
      "outputs": []
    },
    {
      "cell_type": "code",
      "metadata": {
        "id": "FlfKW5JpR969",
        "colab_type": "code",
        "colab": {}
      },
      "source": [
        "# Splitting the values of Edition feature into new Publishing Month and Year features\n",
        "\n",
        "c=a.str[1]\n",
        "\n",
        "def date_sorter():\n",
        "    # Get the dates in the form of words\n",
        "    one = c.str.extract(r'((?:\\d{,2}\\s)?(?:Jan|Feb|Mar|Apr|May|Jun|Jul|Aug|Sep|Oct|Nov|Dec)[a-z]*(?:-|\\.|\\s|,)\\s?\\d{,2}[a-z]*(?:-|,|\\s)?\\s?\\d{2,4})')\n",
        "    # Get the dates where there is no days i.e only month and year  \n",
        "    three = c.str.extract(r'(\\d{4})')\n",
        "    #Convert the dates to datatime and by filling the nans in two and three. Replace month name because of spelling mistake in the text file.\n",
        "    dates = one.fillna(three)\n",
        "    return dates\n",
        "\n",
        "\n",
        "d=date_sorter()\n",
        "df['Date_of_Publishing']=d\n",
        "\n",
        "df['Date_of_Publishing']=pd.to_datetime(df['Date_of_Publishing'],dayfirst=True)\n",
        "\n",
        "df['Date_of_Publishing_Month']=df['Date_of_Publishing'].dt.month\n",
        "df['Date_of_Publishing_Year']=df['Date_of_Publishing'].dt.year\n",
        "\n",
        "df['Date_of_Publishing_Month'].fillna(0,inplace = True)\n",
        "df['Date_of_Publishing_Year'].fillna(0,inplace = True)"
      ],
      "execution_count": 0,
      "outputs": []
    },
    {
      "cell_type": "code",
      "metadata": {
        "id": "womN0ZGjUZJG",
        "colab_type": "code",
        "colab": {}
      },
      "source": [
        "# Dropping the unnessary columns\n",
        "\n",
        "df=df.drop(labels=['BookCategory', 'Edition', 'Genre','Date_of_Publishing','Synopsis'],axis=1)"
      ],
      "execution_count": 0,
      "outputs": []
    },
    {
      "cell_type": "code",
      "metadata": {
        "id": "CFa1H-73UgFh",
        "colab_type": "code",
        "colab": {}
      },
      "source": [
        "# using the Column Transformer to transform the categorical into numerical feature\n",
        "\n",
        "from sklearn.compose import ColumnTransformer\n",
        "from sklearn.feature_extraction.text import CountVectorizer, TfidfVectorizer\n",
        "from sklearn.preprocessing import OneHotEncoder\n",
        "\n",
        "preprocess = ColumnTransformer(\n",
        "    [('author_category', OneHotEncoder(dtype='int', handle_unknown='ignore'), ['Author']),\n",
        "     ('Genre_1_new', OneHotEncoder(dtype='int', handle_unknown='ignore'), ['Genre_1']),\n",
        "     ('Genre_2_new', OneHotEncoder(dtype='int', handle_unknown='ignore'), ['Genre_2']),\n",
        "     ('Genre_3_new', OneHotEncoder(dtype='int', handle_unknown='ignore'), ['Genre_3']),\n",
        "     ('Printed_category', OneHotEncoder(dtype='int', handle_unknown='ignore'), ['Printed']),\n",
        "     ('Title_countvec', CountVectorizer(min_df=10), 'Title')],\n",
        "    remainder='passthrough')"
      ],
      "execution_count": 0,
      "outputs": []
    },
    {
      "cell_type": "code",
      "metadata": {
        "id": "zfPEQM0bYmjx",
        "colab_type": "code",
        "colab": {}
      },
      "source": [
        "# taking the log value to normalize the data \n",
        "\n",
        "df[\"Price\"] = np.log1p(df[\"Price\"])"
      ],
      "execution_count": 0,
      "outputs": []
    },
    {
      "cell_type": "code",
      "metadata": {
        "id": "FbuHMicyVavn",
        "colab_type": "code",
        "colab": {}
      },
      "source": [
        "# converting the sparse matrix into dataframe\n",
        "\n",
        "df_new = df.drop(['Price'], axis =1)\n",
        "\n",
        "df_new1=pd.DataFrame(preprocess.fit_transform(df_new).todense())\n",
        "df_y = df.drop(['Price'], axis =1)\n",
        "\n",
        "df_train = df_new1[0:6237]\n",
        "df_test = df_new1[6237:]\n",
        "\n",
        "X = df_train\n",
        "y = df['Price'][0:6237]"
      ],
      "execution_count": 0,
      "outputs": []
    },
    {
      "cell_type": "code",
      "metadata": {
        "id": "IGyPUV89YFno",
        "colab_type": "code",
        "colab": {}
      },
      "source": [
        "# Segregate the data set into train and test set\n",
        "\n",
        "from sklearn.model_selection import train_test_split, KFold, StratifiedKFold,cross_val_score\n",
        "\n",
        "train_X,test_X,train_y,test_y = train_test_split(X,y,test_size=0.2,random_state=0)"
      ],
      "execution_count": 0,
      "outputs": []
    },
    {
      "cell_type": "code",
      "metadata": {
        "id": "Ay2bUpw4XFaT",
        "colab_type": "code",
        "outputId": "890d5ce7-49a4-44a6-8cc2-48708a6729d9",
        "colab": {
          "base_uri": "https://localhost:8080/",
          "height": 51
        }
      },
      "source": [
        "from lightgbm import LGBMRegressor \n",
        "from sklearn.metrics import mean_squared_error\n",
        "\n",
        "model = LGBMRegressor(\n",
        "    boosting_type='gbdt',\n",
        "    num_leaves=127,\n",
        "    max_depth=8,\n",
        "    learning_rate=0.069,\n",
        "    n_estimators=500,\n",
        "    subsample_for_bin=200000,\n",
        "    objective=None,\n",
        "    class_weight=None,\n",
        "    min_split_gain=0.0,\n",
        "    min_child_weight=3,\n",
        "    min_child_samples=20,\n",
        "    subsample=0.3,\n",
        "    subsample_freq=0,\n",
        "    colsample_bytree=0.3,\n",
        "    reg_alpha=0.01,\n",
        "    reg_lambda=0.0,\n",
        "    random_state=None,\n",
        "    n_jobs=-1,\n",
        "    silent=True,\n",
        "    importance_type='split')\n",
        "\n",
        "model.fit(train_X,train_y)\n",
        "\n",
        "y_train_pred = model.predict(train_X)\n",
        "y_pred = model.predict(test_X)\n",
        "\n",
        "train_rmse = np.sqrt(mean_squared_error(y_train_pred, train_y))\n",
        "test_rmse = np.sqrt(mean_squared_error(y_pred, test_y))\n",
        "print('Train RMSE: %.4f' % train_rmse)\n",
        "print('Test RMSE: %.4f' % test_rmse)\n"
      ],
      "execution_count": 0,
      "outputs": [
        {
          "output_type": "stream",
          "text": [
            "Train RMSE: 0.4771\n",
            "Test RMSE: 0.5778\n"
          ],
          "name": "stdout"
        }
      ]
    },
    {
      "cell_type": "markdown",
      "metadata": {
        "id": "MWJP7PNvryoN",
        "colab_type": "text"
      },
      "source": [
        ""
      ]
    }
  ]
}