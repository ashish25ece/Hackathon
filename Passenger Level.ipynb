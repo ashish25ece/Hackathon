{
  "nbformat": 4,
  "nbformat_minor": 0,
  "metadata": {
    "colab": {
      "name": "Untitled",
      "provenance": [],
      "include_colab_link": true
    },
    "kernelspec": {
      "name": "python3",
      "display_name": "Python 3"
    }
  },
  "cells": [
    {
      "cell_type": "markdown",
      "metadata": {
        "id": "view-in-github",
        "colab_type": "text"
      },
      "source": [
        "<a href=\"https://colab.research.google.com/github/ashish25ece/Hackathon/blob/master/Passenger%20Level.ipynb\" target=\"_parent\"><img src=\"https://colab.research.google.com/assets/colab-badge.svg\" alt=\"Open In Colab\"/></a>"
      ]
    },
    {
      "cell_type": "code",
      "metadata": {
        "id": "ww3X_sAlHgzj",
        "colab_type": "code",
        "colab": {}
      },
      "source": [
        "import numpy as np \n",
        "import pandas as pd \n",
        "import matplotlib.pyplot as plt\n",
        "import seaborn as sns\n",
        "%matplotlib inline\n",
        "sns.set()\n",
        "\n",
        "import warnings\n",
        "warnings.filterwarnings('ignore')\n",
        "\n",
        "pd.set_option('display.max_columns', None)\n",
        "\n",
        "from sklearn.metrics import mean_squared_error\n",
        "\n",
        "from sklearn.compose import ColumnTransformer\n",
        "from sklearn.feature_extraction.text import CountVectorizer, TfidfVectorizer\n",
        "from sklearn.preprocessing import OneHotEncoder\n",
        "from sklearn.pipeline import make_pipeline\n",
        "from sklearn.pipeline import Pipeline\n",
        "\n",
        "from sklearn.model_selection import GridSearchCV\n",
        "from lightgbm import LGBMRegressor "
      ],
      "execution_count": 0,
      "outputs": []
    },
    {
      "cell_type": "code",
      "metadata": {
        "id": "JxkyIRR_HqH-",
        "colab_type": "code",
        "outputId": "13633317-54d4-4b1d-ce63-792a10cad9a7",
        "colab": {
          "resources": {
            "http://localhost:8080/nbextensions/google.colab/files.js": {
              "data": "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",
              "ok": true,
              "headers": [
                [
                  "content-type",
                  "application/javascript"
                ]
              ],
              "status": 200,
              "status_text": ""
            }
          },
          "base_uri": "https://localhost:8080/",
          "height": 108
        }
      },
      "source": [
        "from google.colab import files\n",
        "uploaded = files.upload()\n"
      ],
      "execution_count": 0,
      "outputs": [
        {
          "output_type": "display_data",
          "data": {
            "text/html": [
              "\n",
              "     <input type=\"file\" id=\"files-dc83d9c8-bbc2-4285-ac33-4f71b700773b\" name=\"files[]\" multiple disabled />\n",
              "     <output id=\"result-dc83d9c8-bbc2-4285-ac33-4f71b700773b\">\n",
              "      Upload widget is only available when the cell has been executed in the\n",
              "      current browser session. Please rerun this cell to enable.\n",
              "      </output>\n",
              "      <script src=\"/nbextensions/google.colab/files.js\"></script> "
            ],
            "text/plain": [
              "<IPython.core.display.HTML object>"
            ]
          },
          "metadata": {
            "tags": []
          }
        },
        {
          "output_type": "stream",
          "text": [
            "Saving Test.csv to Test.csv\n",
            "Saving Train.csv to Train.csv\n"
          ],
          "name": "stdout"
        }
      ]
    },
    {
      "cell_type": "code",
      "metadata": {
        "id": "bHyg1VT2Hy-E",
        "colab_type": "code",
        "colab": {}
      },
      "source": [
        "import io\n",
        "df_train = pd.read_csv(io.BytesIO(uploaded['Train.csv']))\n",
        "df_test  = pd.read_csv(io.BytesIO(uploaded['Test.csv']))\n"
      ],
      "execution_count": 0,
      "outputs": []
    },
    {
      "cell_type": "code",
      "metadata": {
        "id": "4XQAz-IlI0ZE",
        "colab_type": "code",
        "outputId": "7c7fe10a-950a-41f5-f450-05c704674847",
        "colab": {
          "base_uri": "https://localhost:8080/",
          "height": 357
        }
      },
      "source": [
        "df_train.isnull().sum()"
      ],
      "execution_count": 0,
      "outputs": [
        {
          "output_type": "execute_result",
          "data": {
            "text/plain": [
              "id_code                         0\n",
              "current_date                    0\n",
              "current_time                    0\n",
              "source_name                     0\n",
              "destination_name                0\n",
              "train_name                      0\n",
              "target                          0\n",
              "country_code_source             1\n",
              "longitude_source                1\n",
              "latitude_source                 1\n",
              "mean_halt_times_source          1\n",
              "country_code_destination       33\n",
              "longitude_destination          33\n",
              "latitude_destination           33\n",
              "mean_halt_times_destination    33\n",
              "current_year                    0\n",
              "current_week                    0\n",
              "current_day                     0\n",
              "is_weekend                      0\n",
              "dtype: int64"
            ]
          },
          "metadata": {
            "tags": []
          },
          "execution_count": 5
        }
      ]
    },
    {
      "cell_type": "code",
      "metadata": {
        "id": "EttzI9ezJUO4",
        "colab_type": "code",
        "colab": {}
      },
      "source": [
        "df_train.dropna(inplace=True)"
      ],
      "execution_count": 0,
      "outputs": []
    },
    {
      "cell_type": "code",
      "metadata": {
        "id": "O9M_Ghg8ICRr",
        "colab_type": "code",
        "colab": {}
      },
      "source": [
        "df= df_train.append(df_test)"
      ],
      "execution_count": 0,
      "outputs": []
    },
    {
      "cell_type": "code",
      "metadata": {
        "id": "Qx-mvKmvIRXr",
        "colab_type": "code",
        "outputId": "69d57189-393f-48fb-a92b-de8ca2019485",
        "colab": {
          "base_uri": "https://localhost:8080/",
          "height": 357
        }
      },
      "source": [
        "df.isnull().sum()"
      ],
      "execution_count": 0,
      "outputs": [
        {
          "output_type": "execute_result",
          "data": {
            "text/plain": [
              "country_code_destination         0\n",
              "country_code_source              0\n",
              "current_date                     0\n",
              "current_day                      0\n",
              "current_time                     0\n",
              "current_week                     0\n",
              "current_year                     0\n",
              "destination_name                 0\n",
              "id_code                          0\n",
              "is_weekend                       0\n",
              "latitude_destination             0\n",
              "latitude_source                  0\n",
              "longitude_destination            0\n",
              "longitude_source                 0\n",
              "mean_halt_times_destination      0\n",
              "mean_halt_times_source           0\n",
              "source_name                      0\n",
              "target                         964\n",
              "train_name                       0\n",
              "dtype: int64"
            ]
          },
          "metadata": {
            "tags": []
          },
          "execution_count": 8
        }
      ]
    },
    {
      "cell_type": "code",
      "metadata": {
        "id": "Bu28eaU4JxxP",
        "colab_type": "code",
        "outputId": "a73975b4-e647-472a-c130-f683be5ba9c4",
        "colab": {
          "base_uri": "https://localhost:8080/",
          "height": 224
        }
      },
      "source": [
        "df.head()"
      ],
      "execution_count": 0,
      "outputs": [
        {
          "output_type": "execute_result",
          "data": {
            "text/html": [
              "<div>\n",
              "<style scoped>\n",
              "    .dataframe tbody tr th:only-of-type {\n",
              "        vertical-align: middle;\n",
              "    }\n",
              "\n",
              "    .dataframe tbody tr th {\n",
              "        vertical-align: top;\n",
              "    }\n",
              "\n",
              "    .dataframe thead th {\n",
              "        text-align: right;\n",
              "    }\n",
              "</style>\n",
              "<table border=\"1\" class=\"dataframe\">\n",
              "  <thead>\n",
              "    <tr style=\"text-align: right;\">\n",
              "      <th></th>\n",
              "      <th>country_code_destination</th>\n",
              "      <th>country_code_source</th>\n",
              "      <th>current_date</th>\n",
              "      <th>current_day</th>\n",
              "      <th>current_time</th>\n",
              "      <th>current_week</th>\n",
              "      <th>current_year</th>\n",
              "      <th>destination_name</th>\n",
              "      <th>id_code</th>\n",
              "      <th>is_weekend</th>\n",
              "      <th>latitude_destination</th>\n",
              "      <th>latitude_source</th>\n",
              "      <th>longitude_destination</th>\n",
              "      <th>longitude_source</th>\n",
              "      <th>mean_halt_times_destination</th>\n",
              "      <th>mean_halt_times_source</th>\n",
              "      <th>source_name</th>\n",
              "      <th>target</th>\n",
              "      <th>train_name</th>\n",
              "    </tr>\n",
              "  </thead>\n",
              "  <tbody>\n",
              "    <tr>\n",
              "      <th>31</th>\n",
              "      <td>whber</td>\n",
              "      <td>whber</td>\n",
              "      <td>2016-07-27</td>\n",
              "      <td>Wednesday</td>\n",
              "      <td>11:41:46 PM</td>\n",
              "      <td>30</td>\n",
              "      <td>2016</td>\n",
              "      <td>station$214</td>\n",
              "      <td>mgtoldpcbopaoba</td>\n",
              "      <td>False</td>\n",
              "      <td>51.017648</td>\n",
              "      <td>50.859663</td>\n",
              "      <td>4.482785</td>\n",
              "      <td>4.360846</td>\n",
              "      <td>306.523121</td>\n",
              "      <td>640.265896</td>\n",
              "      <td>station$130</td>\n",
              "      <td>high</td>\n",
              "      <td>ICWVYA</td>\n",
              "    </tr>\n",
              "    <tr>\n",
              "      <th>32</th>\n",
              "      <td>whber</td>\n",
              "      <td>whber</td>\n",
              "      <td>2016-07-28</td>\n",
              "      <td>Thursday</td>\n",
              "      <td>12:04:25 AM</td>\n",
              "      <td>30</td>\n",
              "      <td>2016</td>\n",
              "      <td>station$248</td>\n",
              "      <td>hbvekntxnxearzq</td>\n",
              "      <td>False</td>\n",
              "      <td>50.967057</td>\n",
              "      <td>50.967057</td>\n",
              "      <td>5.497685</td>\n",
              "      <td>5.497685</td>\n",
              "      <td>39.476879</td>\n",
              "      <td>39.476879</td>\n",
              "      <td>station$248</td>\n",
              "      <td>low</td>\n",
              "      <td>ICZVXY</td>\n",
              "    </tr>\n",
              "    <tr>\n",
              "      <th>34</th>\n",
              "      <td>whber</td>\n",
              "      <td>whber</td>\n",
              "      <td>2016-07-28</td>\n",
              "      <td>Thursday</td>\n",
              "      <td>12:18:09 AM</td>\n",
              "      <td>30</td>\n",
              "      <td>2016</td>\n",
              "      <td>station$147</td>\n",
              "      <td>rfwvjolvzoekxsq</td>\n",
              "      <td>False</td>\n",
              "      <td>50.845658</td>\n",
              "      <td>50.967057</td>\n",
              "      <td>4.356801</td>\n",
              "      <td>5.497685</td>\n",
              "      <td>634.164740</td>\n",
              "      <td>39.476879</td>\n",
              "      <td>station$248</td>\n",
              "      <td>low</td>\n",
              "      <td>ICZVXY</td>\n",
              "    </tr>\n",
              "    <tr>\n",
              "      <th>35</th>\n",
              "      <td>whber</td>\n",
              "      <td>whber</td>\n",
              "      <td>2016-07-28</td>\n",
              "      <td>Thursday</td>\n",
              "      <td>12:38:28 AM</td>\n",
              "      <td>30</td>\n",
              "      <td>2016</td>\n",
              "      <td>station$130</td>\n",
              "      <td>jcbfhwsqzpcifpe</td>\n",
              "      <td>False</td>\n",
              "      <td>50.859663</td>\n",
              "      <td>50.896456</td>\n",
              "      <td>4.360846</td>\n",
              "      <td>4.482076</td>\n",
              "      <td>640.265896</td>\n",
              "      <td>171.020231</td>\n",
              "      <td>station$177</td>\n",
              "      <td>high</td>\n",
              "      <td>ICXUYS</td>\n",
              "    </tr>\n",
              "    <tr>\n",
              "      <th>36</th>\n",
              "      <td>whber</td>\n",
              "      <td>whber</td>\n",
              "      <td>2016-07-28</td>\n",
              "      <td>Thursday</td>\n",
              "      <td>08:50:27 AM</td>\n",
              "      <td>30</td>\n",
              "      <td>2016</td>\n",
              "      <td>station$147</td>\n",
              "      <td>qfnccvisvjzlkxg</td>\n",
              "      <td>False</td>\n",
              "      <td>50.845658</td>\n",
              "      <td>51.035896</td>\n",
              "      <td>4.356801</td>\n",
              "      <td>3.710675</td>\n",
              "      <td>634.164740</td>\n",
              "      <td>309.014451</td>\n",
              "      <td>station$544</td>\n",
              "      <td>medium</td>\n",
              "      <td>ICZVAT</td>\n",
              "    </tr>\n",
              "  </tbody>\n",
              "</table>\n",
              "</div>"
            ],
            "text/plain": [
              "   country_code_destination country_code_source current_date current_day  \\\n",
              "31                    whber               whber   2016-07-27   Wednesday   \n",
              "32                    whber               whber   2016-07-28    Thursday   \n",
              "34                    whber               whber   2016-07-28    Thursday   \n",
              "35                    whber               whber   2016-07-28    Thursday   \n",
              "36                    whber               whber   2016-07-28    Thursday   \n",
              "\n",
              "   current_time  current_week  current_year destination_name          id_code  \\\n",
              "31  11:41:46 PM            30          2016      station$214  mgtoldpcbopaoba   \n",
              "32  12:04:25 AM            30          2016      station$248  hbvekntxnxearzq   \n",
              "34  12:18:09 AM            30          2016      station$147  rfwvjolvzoekxsq   \n",
              "35  12:38:28 AM            30          2016      station$130  jcbfhwsqzpcifpe   \n",
              "36  08:50:27 AM            30          2016      station$147  qfnccvisvjzlkxg   \n",
              "\n",
              "    is_weekend  latitude_destination  latitude_source  longitude_destination  \\\n",
              "31       False             51.017648        50.859663               4.482785   \n",
              "32       False             50.967057        50.967057               5.497685   \n",
              "34       False             50.845658        50.967057               4.356801   \n",
              "35       False             50.859663        50.896456               4.360846   \n",
              "36       False             50.845658        51.035896               4.356801   \n",
              "\n",
              "    longitude_source  mean_halt_times_destination  mean_halt_times_source  \\\n",
              "31          4.360846                   306.523121              640.265896   \n",
              "32          5.497685                    39.476879               39.476879   \n",
              "34          5.497685                   634.164740               39.476879   \n",
              "35          4.482076                   640.265896              171.020231   \n",
              "36          3.710675                   634.164740              309.014451   \n",
              "\n",
              "    source_name  target train_name  \n",
              "31  station$130    high     ICWVYA  \n",
              "32  station$248     low     ICZVXY  \n",
              "34  station$248     low     ICZVXY  \n",
              "35  station$177    high     ICXUYS  \n",
              "36  station$544  medium     ICZVAT  "
            ]
          },
          "metadata": {
            "tags": []
          },
          "execution_count": 9
        }
      ]
    },
    {
      "cell_type": "code",
      "metadata": {
        "id": "L9GFgoMJLnwH",
        "colab_type": "code",
        "colab": {}
      },
      "source": [
        "a=df['current_time'].str.split(':')\n",
        "b=a.str[2].str.split()\n",
        "df['Hours']=a.str[0]\n",
        "df['Minutes']=a.str[1]\n",
        "df['Seconds']=b.str[0]\n",
        "df['Merridean']=b.str[1]"
      ],
      "execution_count": 0,
      "outputs": []
    },
    {
      "cell_type": "code",
      "metadata": {
        "id": "gCi1P-PbOBNA",
        "colab_type": "code",
        "outputId": "5fca9cd7-9404-47d8-a5d2-b3e144e999b5",
        "colab": {
          "base_uri": "https://localhost:8080/",
          "height": 119
        }
      },
      "source": [
        "df.columns"
      ],
      "execution_count": 0,
      "outputs": [
        {
          "output_type": "execute_result",
          "data": {
            "text/plain": [
              "Index(['country_code_destination', 'country_code_source', 'current_day',\n",
              "       'destination_name', 'is_weekend', 'latitude_destination',\n",
              "       'latitude_source', 'longitude_destination', 'longitude_source',\n",
              "       'mean_halt_times_destination', 'mean_halt_times_source', 'source_name',\n",
              "       'target', 'train_name', 'Hours', 'Minutes', 'Seconds', 'Merridean'],\n",
              "      dtype='object')"
            ]
          },
          "metadata": {
            "tags": []
          },
          "execution_count": 13
        }
      ]
    },
    {
      "cell_type": "code",
      "metadata": {
        "id": "TITEjTJlNneS",
        "colab_type": "code",
        "colab": {}
      },
      "source": [
        "df=df.drop(labels=['current_date', 'current_time', 'current_week', 'current_year','id_code'],axis=1)"
      ],
      "execution_count": 0,
      "outputs": []
    },
    {
      "cell_type": "code",
      "metadata": {
        "id": "Y4v-9FgwPnAp",
        "colab_type": "code",
        "outputId": "1bd1c012-039a-4a19-e902-606a39df6e25",
        "colab": {
          "base_uri": "https://localhost:8080/",
          "height": 34
        }
      },
      "source": [
        "df.country_code_destination.unique()"
      ],
      "execution_count": 0,
      "outputs": [
        {
          "output_type": "execute_result",
          "data": {
            "text/plain": [
              "array(['whber', 'aqfre', 'qwnll', 'zxdec', 'logbp', 'wsluu'], dtype=object)"
            ]
          },
          "metadata": {
            "tags": []
          },
          "execution_count": 14
        }
      ]
    },
    {
      "cell_type": "code",
      "metadata": {
        "id": "oss2b6-LPgwo",
        "colab_type": "code",
        "colab": {}
      },
      "source": [
        "preprocess = ColumnTransformer(\n",
        "    [('country_code_destination', OneHotEncoder(dtype='int', handle_unknown='ignore'), ['country_code_destination']),\n",
        "     ('country_code_source', OneHotEncoder(dtype='int', handle_unknown='ignore'), ['country_code_source']),\n",
        "     ('current_day', OneHotEncoder(dtype='int', handle_unknown='ignore'), ['current_day']),\n",
        "     ('destination_name', OneHotEncoder(dtype='int', handle_unknown='ignore'), ['destination_name']),\n",
        "     ('is_weekend', OneHotEncoder(dtype='int', handle_unknown='ignore'), ['is_weekend']),\n",
        "     ('source_name', OneHotEncoder(dtype='int', handle_unknown='ignore'), ['source_name']),\n",
        "     ('train_name', OneHotEncoder(dtype='int', handle_unknown='ignore'), ['train_name']),\n",
        "     ('Merridean', OneHotEncoder(dtype='int', handle_unknown='ignore'), ['Merridean'])])\n",
        "#     ('target', OneHotEncoder(dtype='int', handle_unknown='ignore'), ['target'])\n",
        "#     ('Date_of_Publishing_Month', OneHotEncoder(dtype='int', handle_unknown='ignore'), ['Date_of_Publishing_Month']),\n",
        "#     ('Date_of_Publishing_Year', OneHotEncoder(dtype='int', handle_unknown='ignore'), ['Date_of_Publishing_Year']),\n",
        "#     ('Printed_category', OneHotEncoder(dtype='int', handle_unknown='ignore'), ['Printed']),\n",
        "#     ('Title_countvec', CountVectorizer(min_df=10), 'Title'),\n",
        "#     ('synopsis_tfidf', TfidfVectorizer(max_features = 2000, stop_words = 'english', ngram_range=(1,3)), 'Synopsis')],\n",
        "#    remainder='passthrough')\n"
      ],
      "execution_count": 0,
      "outputs": []
    },
    {
      "cell_type": "code",
      "metadata": {
        "id": "L--InlxsVZbM",
        "colab_type": "code",
        "outputId": "4d020f2f-a819-40fc-d074-aef46db280d3",
        "colab": {
          "base_uri": "https://localhost:8080/",
          "height": 408
        }
      },
      "source": [
        "df.info()"
      ],
      "execution_count": 0,
      "outputs": [
        {
          "output_type": "stream",
          "text": [
            "<class 'pandas.core.frame.DataFrame'>\n",
            "Int64Index: 2214 entries, 31 to 963\n",
            "Data columns (total 18 columns):\n",
            "country_code_destination       2214 non-null object\n",
            "country_code_source            2214 non-null object\n",
            "current_day                    2214 non-null object\n",
            "destination_name               2214 non-null object\n",
            "is_weekend                     2214 non-null bool\n",
            "latitude_destination           2214 non-null float64\n",
            "latitude_source                2214 non-null float64\n",
            "longitude_destination          2214 non-null float64\n",
            "longitude_source               2214 non-null float64\n",
            "mean_halt_times_destination    2214 non-null float64\n",
            "mean_halt_times_source         2214 non-null float64\n",
            "source_name                    2214 non-null object\n",
            "target                         1250 non-null object\n",
            "train_name                     2214 non-null object\n",
            "Hours                          2214 non-null object\n",
            "Minutes                        2214 non-null object\n",
            "Seconds                        2214 non-null object\n",
            "Merridean                      2214 non-null object\n",
            "dtypes: bool(1), float64(6), object(11)\n",
            "memory usage: 313.5+ KB\n"
          ],
          "name": "stdout"
        }
      ]
    },
    {
      "cell_type": "code",
      "metadata": {
        "id": "u-oCtU95REHB",
        "colab_type": "code",
        "outputId": "67cb285f-7103-45a2-e8c3-d022c0a5642a",
        "colab": {
          "base_uri": "https://localhost:8080/",
          "height": 34
        }
      },
      "source": [
        "df_train.shape"
      ],
      "execution_count": 0,
      "outputs": [
        {
          "output_type": "execute_result",
          "data": {
            "text/plain": [
              "(1250, 19)"
            ]
          },
          "metadata": {
            "tags": []
          },
          "execution_count": 17
        }
      ]
    },
    {
      "cell_type": "code",
      "metadata": {
        "id": "8HFQU3pqQ-lB",
        "colab_type": "code",
        "outputId": "112da3e2-dd2f-48cb-e678-94a9e6ce1423",
        "colab": {
          "base_uri": "https://localhost:8080/",
          "height": 34
        }
      },
      "source": [
        "df_train = df[0:1250]\n",
        "df_test = df[1250:]\n",
        "df_test = df_test.drop(['target'], axis =1)\n",
        "\n",
        "X = df_train.drop(['target'],axis = 1)\n",
        "y = df_train['target']\n",
        "\n",
        "\n",
        "\n",
        "df_X=pd.DataFrame(preprocess.fit_transform(X).todense())\n",
        "\n",
        "df_X.shape\n"
      ],
      "execution_count": 0,
      "outputs": [
        {
          "output_type": "execute_result",
          "data": {
            "text/plain": [
              "(1250, 980)"
            ]
          },
          "metadata": {
            "tags": []
          },
          "execution_count": 18
        }
      ]
    },
    {
      "cell_type": "code",
      "metadata": {
        "id": "ZQsS_m23S0yR",
        "colab_type": "code",
        "colab": {}
      },
      "source": [
        "# Segregate the data set into train and test set\n",
        "\n",
        "from sklearn.model_selection import train_test_split, KFold, cross_val_score\n",
        "\n",
        "train_X,test_X,train_y,test_y = train_test_split(df_X,y,test_size=0.2,random_state=0)\n",
        "\n"
      ],
      "execution_count": 0,
      "outputs": []
    },
    {
      "cell_type": "code",
      "metadata": {
        "id": "eX7KkzD8T4M6",
        "colab_type": "code",
        "colab": {}
      },
      "source": [
        "from sklearn.metrics import accuracy_score, classification_report, confusion_matrix\n",
        "\n",
        "from sklearn.linear_model import LogisticRegression\n",
        "from sklearn.neighbors import KNeighborsClassifier\n",
        "from sklearn.tree import DecisionTreeClassifier\n",
        "from sklearn.naive_bayes import GaussianNB\n",
        "from sklearn.ensemble import RandomForestClassifier\n",
        "from sklearn.svm import SVC"
      ],
      "execution_count": 0,
      "outputs": []
    },
    {
      "cell_type": "code",
      "metadata": {
        "id": "AA2pXoPkT9cR",
        "colab_type": "code",
        "outputId": "7a63703d-7516-4a56-f47b-0ebd750b86ee",
        "colab": {
          "base_uri": "https://localhost:8080/",
          "height": 527
        }
      },
      "source": [
        "models=[]\n",
        "results=[]\n",
        "names=[]\n",
        "\n",
        "models.append(('LR',LogisticRegression()))\n",
        "models.append(('KNN',KNeighborsClassifier()))\n",
        "models.append(('DT',DecisionTreeClassifier()))\n",
        "models.append(('NB',GaussianNB()))\n",
        "models.append(('RFC',RandomForestClassifier()))\n",
        "models.append(('SVM',SVC()))\n",
        "\n",
        "models"
      ],
      "execution_count": 0,
      "outputs": [
        {
          "output_type": "execute_result",
          "data": {
            "text/plain": [
              "[('LR',\n",
              "  LogisticRegression(C=1.0, class_weight=None, dual=False, fit_intercept=True,\n",
              "                     intercept_scaling=1, l1_ratio=None, max_iter=100,\n",
              "                     multi_class='warn', n_jobs=None, penalty='l2',\n",
              "                     random_state=None, solver='warn', tol=0.0001, verbose=0,\n",
              "                     warm_start=False)),\n",
              " ('KNN',\n",
              "  KNeighborsClassifier(algorithm='auto', leaf_size=30, metric='minkowski',\n",
              "                       metric_params=None, n_jobs=None, n_neighbors=5, p=2,\n",
              "                       weights='uniform')),\n",
              " ('DT',\n",
              "  DecisionTreeClassifier(class_weight=None, criterion='gini', max_depth=None,\n",
              "                         max_features=None, max_leaf_nodes=None,\n",
              "                         min_impurity_decrease=0.0, min_impurity_split=None,\n",
              "                         min_samples_leaf=1, min_samples_split=2,\n",
              "                         min_weight_fraction_leaf=0.0, presort=False,\n",
              "                         random_state=None, splitter='best')),\n",
              " ('NB', GaussianNB(priors=None, var_smoothing=1e-09)),\n",
              " ('RFC',\n",
              "  RandomForestClassifier(bootstrap=True, class_weight=None, criterion='gini',\n",
              "                         max_depth=None, max_features='auto', max_leaf_nodes=None,\n",
              "                         min_impurity_decrease=0.0, min_impurity_split=None,\n",
              "                         min_samples_leaf=1, min_samples_split=2,\n",
              "                         min_weight_fraction_leaf=0.0, n_estimators='warn',\n",
              "                         n_jobs=None, oob_score=False, random_state=None,\n",
              "                         verbose=0, warm_start=False)),\n",
              " ('SVM', SVC(C=1.0, cache_size=200, class_weight=None, coef0=0.0,\n",
              "      decision_function_shape='ovr', degree=3, gamma='auto_deprecated',\n",
              "      kernel='rbf', max_iter=-1, probability=False, random_state=None,\n",
              "      shrinking=True, tol=0.001, verbose=False))]"
            ]
          },
          "metadata": {
            "tags": []
          },
          "execution_count": 27
        }
      ]
    },
    {
      "cell_type": "code",
      "metadata": {
        "id": "qivnVwJybCxq",
        "colab_type": "code",
        "outputId": "9067403d-07a3-48d7-8295-e9aee183ca7e",
        "colab": {
          "base_uri": "https://localhost:8080/",
          "height": 119
        }
      },
      "source": [
        "for name,model in models:\n",
        "    k_folds = StratifiedKFold(n_splits=10, random_state=42)\n",
        "    cv_score= cross_val_score(model,train_X,y=train_y,cv=k_folds,scoring='accuracy')\n",
        "    results.append(cv_score)\n",
        "    names.append(name)\n",
        "    print(\"%s: %f (%f)\" % (name, cv_score.mean()*100, cv_score.std()))"
      ],
      "execution_count": 0,
      "outputs": [
        {
          "output_type": "stream",
          "text": [
            "LR: 52.508456 (0.030815)\n",
            "KNN: 48.393705 (0.034213)\n",
            "DT: 49.987988 (0.050237)\n",
            "NB: 48.992857 (0.032669)\n",
            "RFC: 53.093422 (0.025669)\n",
            "SVM: 41.500840 (0.002774)\n"
          ],
          "name": "stdout"
        }
      ]
    },
    {
      "cell_type": "code",
      "metadata": {
        "id": "mnflHe1ejKci",
        "colab_type": "code",
        "outputId": "0f4d01ac-c45a-4715-9a35-00f31fe7cf8e",
        "colab": {
          "base_uri": "https://localhost:8080/",
          "height": 136
        }
      },
      "source": [
        "#Since Logistic Regression is the best fitted model\n",
        "\n",
        "rfc = RandomForestClassifier()\n",
        "rfc.fit(train_X,train_y)"
      ],
      "execution_count": 0,
      "outputs": [
        {
          "output_type": "execute_result",
          "data": {
            "text/plain": [
              "RandomForestClassifier(bootstrap=True, class_weight=None, criterion='gini',\n",
              "                       max_depth=None, max_features='auto', max_leaf_nodes=None,\n",
              "                       min_impurity_decrease=0.0, min_impurity_split=None,\n",
              "                       min_samples_leaf=1, min_samples_split=2,\n",
              "                       min_weight_fraction_leaf=0.0, n_estimators=10,\n",
              "                       n_jobs=None, oob_score=False, random_state=None,\n",
              "                       verbose=0, warm_start=False)"
            ]
          },
          "metadata": {
            "tags": []
          },
          "execution_count": 30
        }
      ]
    },
    {
      "cell_type": "code",
      "metadata": {
        "id": "bS0tWJdxjxvX",
        "colab_type": "code",
        "outputId": "bc237139-584c-4d5d-cb62-5f8813913c9d",
        "colab": {
          "base_uri": "https://localhost:8080/",
          "height": 544
        }
      },
      "source": [
        "rfc_predicted = rfc.predict(test_X)\n",
        "rfc_predicted"
      ],
      "execution_count": 0,
      "outputs": [
        {
          "output_type": "execute_result",
          "data": {
            "text/plain": [
              "array(['medium', 'low', 'high', 'high', 'low', 'medium', 'medium',\n",
              "       'medium', 'medium', 'low', 'low', 'high', 'low', 'high', 'high',\n",
              "       'low', 'low', 'low', 'high', 'high', 'medium', 'low', 'low',\n",
              "       'high', 'high', 'low', 'high', 'low', 'low', 'medium', 'low',\n",
              "       'high', 'medium', 'low', 'high', 'low', 'low', 'low', 'low',\n",
              "       'high', 'high', 'low', 'low', 'low', 'low', 'low', 'low', 'medium',\n",
              "       'low', 'low', 'low', 'low', 'high', 'low', 'low', 'low', 'high',\n",
              "       'medium', 'high', 'medium', 'low', 'high', 'low', 'low', 'medium',\n",
              "       'low', 'low', 'low', 'low', 'low', 'low', 'high', 'medium', 'low',\n",
              "       'low', 'high', 'high', 'low', 'low', 'medium', 'low', 'high',\n",
              "       'low', 'low', 'low', 'low', 'high', 'medium', 'high', 'low', 'low',\n",
              "       'low', 'low', 'low', 'high', 'high', 'low', 'low', 'high', 'high',\n",
              "       'low', 'medium', 'low', 'high', 'low', 'low', 'low', 'low',\n",
              "       'medium', 'high', 'low', 'low', 'medium', 'low', 'high', 'medium',\n",
              "       'low', 'low', 'low', 'low', 'high', 'low', 'low', 'high', 'medium',\n",
              "       'low', 'low', 'low', 'high', 'high', 'low', 'low', 'low', 'low',\n",
              "       'medium', 'medium', 'high', 'medium', 'low', 'low', 'high', 'low',\n",
              "       'high', 'low', 'low', 'high', 'high', 'low', 'high', 'high', 'low',\n",
              "       'high', 'medium', 'low', 'low', 'low', 'low', 'high', 'low',\n",
              "       'high', 'low', 'low', 'high', 'medium', 'high', 'high', 'low',\n",
              "       'high', 'high', 'low', 'low', 'high', 'low', 'medium', 'high',\n",
              "       'low', 'high', 'high', 'low', 'high', 'low', 'medium', 'low',\n",
              "       'low', 'medium', 'high', 'low', 'high', 'high', 'low', 'high',\n",
              "       'medium', 'low', 'low', 'medium', 'medium', 'low', 'low', 'low',\n",
              "       'low', 'low', 'high', 'low', 'low', 'medium', 'low', 'high', 'low',\n",
              "       'low', 'low', 'low', 'high', 'high', 'high', 'high', 'high',\n",
              "       'medium', 'low', 'medium', 'medium', 'medium', 'low', 'low',\n",
              "       'high', 'high', 'low', 'medium', 'medium', 'low', 'low', 'medium',\n",
              "       'low', 'low', 'low', 'low', 'medium', 'high', 'high', 'medium',\n",
              "       'medium', 'low', 'high', 'low', 'low', 'medium', 'low', 'high',\n",
              "       'low', 'low', 'low'], dtype=object)"
            ]
          },
          "metadata": {
            "tags": []
          },
          "execution_count": 31
        }
      ]
    },
    {
      "cell_type": "code",
      "metadata": {
        "id": "0maBEQCyS9ia",
        "colab_type": "code",
        "outputId": "d673f0b3-b347-4001-9665-bd3c2bfdabc4",
        "colab": {
          "base_uri": "https://localhost:8080/",
          "height": 289
        }
      },
      "source": [
        "#rfc_score=f1_score(test_y,rfc_predicted)\n",
        "\n",
        "print ('RFC Model :')\n",
        "#print ('F1 score : %.2f' %(f1_score*100))\n",
        "print ('Classfication report : ')\n",
        "print (classification_report(test_y,rfc_predicted))\n",
        "print ('confusion_matrix : ')\n",
        "print (confusion_matrix(test_y,rfc_predicted))"
      ],
      "execution_count": 0,
      "outputs": [
        {
          "output_type": "stream",
          "text": [
            "RFC Model :\n",
            "Classfication report : \n",
            "              precision    recall  f1-score   support\n",
            "\n",
            "        high       0.46      0.49      0.47        68\n",
            "         low       0.62      0.72      0.67       116\n",
            "      medium       0.47      0.30      0.37        66\n",
            "\n",
            "    accuracy                           0.55       250\n",
            "   macro avg       0.52      0.50      0.50       250\n",
            "weighted avg       0.54      0.55      0.54       250\n",
            "\n",
            "confusion_matrix : \n",
            "[[33 25 10]\n",
            " [19 84 13]\n",
            " [20 26 20]]\n"
          ],
          "name": "stdout"
        }
      ]
    },
    {
      "cell_type": "code",
      "metadata": {
        "id": "QmZrgRbSlGFG",
        "colab_type": "code",
        "outputId": "e577ee27-f45b-46c7-ace2-5072d6b3cad8",
        "colab": {
          "base_uri": "https://localhost:8080/",
          "height": 34
        }
      },
      "source": [
        "df_test = df[1250:]\n",
        "df_test = df_test.drop(['target'], axis =1)\n",
        "\n",
        "X = df_test\n",
        "\n",
        "df_X=pd.DataFrame(preprocess.fit_transform(X).todense())\n",
        "\n",
        "df_X.shape\n"
      ],
      "execution_count": 0,
      "outputs": [
        {
          "output_type": "execute_result",
          "data": {
            "text/plain": [
              "(964, 860)"
            ]
          },
          "metadata": {
            "tags": []
          },
          "execution_count": 34
        }
      ]
    },
    {
      "cell_type": "code",
      "metadata": {
        "id": "_9k1mH8HlwkD",
        "colab_type": "code",
        "colab": {}
      },
      "source": [
        "rfc_predicted_test = rfc.predict(df_X)\n"
      ],
      "execution_count": 0,
      "outputs": []
    },
    {
      "cell_type": "code",
      "metadata": {
        "id": "Yo3JU1OFl5ga",
        "colab_type": "code",
        "outputId": "de238081-bbdc-4872-8b63-b3a4f242f18e",
        "colab": {
          "base_uri": "https://localhost:8080/",
          "height": 34
        }
      },
      "source": [
        "test_X.shape"
      ],
      "execution_count": 0,
      "outputs": [
        {
          "output_type": "execute_result",
          "data": {
            "text/plain": [
              "(250, 980)"
            ]
          },
          "metadata": {
            "tags": []
          },
          "execution_count": 35
        }
      ]
    }
  ]
}